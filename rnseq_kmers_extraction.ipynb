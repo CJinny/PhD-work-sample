{
 "cells": [
  {
   "cell_type": "code",
   "execution_count": 1,
   "metadata": {},
   "outputs": [],
   "source": [
    "import pysam\n",
    "import numpy as np\n",
    "import pandas as pd\n",
    "from tqdm import tqdm, tqdm_notebook"
   ]
  },
  {
   "cell_type": "code",
   "execution_count": 2,
   "metadata": {},
   "outputs": [],
   "source": [
    "FOLDER = '/Volumes/Seagate Expansion Drive/aci_storage/STAR.hyp/'"
   ]
  },
  {
   "cell_type": "code",
   "execution_count": 3,
   "metadata": {},
   "outputs": [
    {
     "data": {
      "text/html": [
       "<div>\n",
       "<style scoped>\n",
       "    .dataframe tbody tr th:only-of-type {\n",
       "        vertical-align: middle;\n",
       "    }\n",
       "\n",
       "    .dataframe tbody tr th {\n",
       "        vertical-align: top;\n",
       "    }\n",
       "\n",
       "    .dataframe thead th {\n",
       "        text-align: right;\n",
       "    }\n",
       "</style>\n",
       "<table border=\"1\" class=\"dataframe\">\n",
       "  <thead>\n",
       "    <tr style=\"text-align: right;\">\n",
       "      <th></th>\n",
       "      <th>0</th>\n",
       "      <th>1</th>\n",
       "      <th>2</th>\n",
       "      <th>3</th>\n",
       "      <th>4</th>\n",
       "    </tr>\n",
       "  </thead>\n",
       "  <tbody>\n",
       "    <tr>\n",
       "      <th>0</th>\n",
       "      <td>1</td>\n",
       "      <td>44289</td>\n",
       "      <td>49837</td>\n",
       "      <td>+</td>\n",
       "      <td>Zm00001d027230</td>\n",
       "    </tr>\n",
       "    <tr>\n",
       "      <th>1</th>\n",
       "      <td>1</td>\n",
       "      <td>50877</td>\n",
       "      <td>55716</td>\n",
       "      <td>-</td>\n",
       "      <td>Zm00001d027231</td>\n",
       "    </tr>\n",
       "    <tr>\n",
       "      <th>2</th>\n",
       "      <td>1</td>\n",
       "      <td>92299</td>\n",
       "      <td>95134</td>\n",
       "      <td>-</td>\n",
       "      <td>Zm00001d027232</td>\n",
       "    </tr>\n",
       "    <tr>\n",
       "      <th>3</th>\n",
       "      <td>1</td>\n",
       "      <td>111655</td>\n",
       "      <td>118312</td>\n",
       "      <td>-</td>\n",
       "      <td>Zm00001d027233</td>\n",
       "    </tr>\n",
       "    <tr>\n",
       "      <th>4</th>\n",
       "      <td>1</td>\n",
       "      <td>118683</td>\n",
       "      <td>119739</td>\n",
       "      <td>-</td>\n",
       "      <td>Zm00001d027234</td>\n",
       "    </tr>\n",
       "  </tbody>\n",
       "</table>\n",
       "</div>"
      ],
      "text/plain": [
       "   0       1       2  3               4\n",
       "0  1   44289   49837  +  Zm00001d027230\n",
       "1  1   50877   55716  -  Zm00001d027231\n",
       "2  1   92299   95134  -  Zm00001d027232\n",
       "3  1  111655  118312  -  Zm00001d027233\n",
       "4  1  118683  119739  -  Zm00001d027234"
      ]
     },
     "execution_count": 3,
     "metadata": {},
     "output_type": "execute_result"
    }
   ],
   "source": [
    "gene_coord = pd.read_csv('Zea_mays.AGPv4.32.gene.bed', sep='\\t',header=None)\n",
    "gene_coord.head()"
   ]
  },
  {
   "cell_type": "code",
   "execution_count": 4,
   "metadata": {
    "scrolled": true
   },
   "outputs": [],
   "source": [
    "THES = 0\n",
    "def extract_kmer(seq, k=25):\n",
    "    kmer = []\n",
    "    for i in range(len(seq)-k+1):\n",
    "        kmer.append(seq[i:i+k])\n",
    "    return kmer\n",
    "\n",
    "def query_bam(path, CHR, START, END, ITER=10000, THRES=255, k=25):\n",
    "\n",
    "    df = pd.DataFrame(columns=['chr','start','end','seq', 'kmer'])\n",
    "    bam = pysam.AlignmentFile(path, 'rb')\n",
    "    j=0\n",
    "    for i, read in tqdm_notebook(enumerate(bam.fetch(CHR, START, END))):\n",
    "        if (read.flag) > THRES and (read.query_length>=k):\n",
    "            kmer = extract_kmer(read.seq, k=k)\n",
    "            df.loc[j,'chr'] = read.reference_name\n",
    "            df.loc[j,'start'] = read.reference_start\n",
    "            df.loc[j,'end'] = read.reference_end\n",
    "            df.loc[j,'seq'] = read.seq\n",
    "            df.loc[j,'kmer'] = kmer\n",
    "            j += 1\n",
    "        \n",
    "    return df\n",
    "        "
   ]
  },
  {
   "cell_type": "code",
   "execution_count": 5,
   "metadata": {},
   "outputs": [
    {
     "data": {
      "application/vnd.jupyter.widget-view+json": {
       "model_id": "0c98d6d45f4d4c08ae94edbfc0adc796",
       "version_major": 2,
       "version_minor": 0
      },
      "text/plain": [
       "HBox(children=(IntProgress(value=1, bar_style='info', max=1), HTML(value='')))"
      ]
     },
     "metadata": {},
     "output_type": "display_data"
    },
    {
     "name": "stdout",
     "output_type": "stream",
     "text": [
      "\n"
     ]
    },
    {
     "data": {
      "application/vnd.jupyter.widget-view+json": {
       "model_id": "34966bb7df364ac9bf601324a936f458",
       "version_major": 2,
       "version_minor": 0
      },
      "text/plain": [
       "HBox(children=(IntProgress(value=1, bar_style='info', max=1), HTML(value='')))"
      ]
     },
     "metadata": {},
     "output_type": "display_data"
    },
    {
     "name": "stdout",
     "output_type": "stream",
     "text": [
      "\n"
     ]
    },
    {
     "data": {
      "application/vnd.jupyter.widget-view+json": {
       "model_id": "c1d7feb3f4c14ea2b39183c858864481",
       "version_major": 2,
       "version_minor": 0
      },
      "text/plain": [
       "HBox(children=(IntProgress(value=1, bar_style='info', max=1), HTML(value='')))"
      ]
     },
     "metadata": {},
     "output_type": "display_data"
    },
    {
     "name": "stdout",
     "output_type": "stream",
     "text": [
      "\n"
     ]
    },
    {
     "data": {
      "application/vnd.jupyter.widget-view+json": {
       "model_id": "4fc48e9355a547c3aff5680e7639b76c",
       "version_major": 2,
       "version_minor": 0
      },
      "text/plain": [
       "HBox(children=(IntProgress(value=1, bar_style='info', max=1), HTML(value='')))"
      ]
     },
     "metadata": {},
     "output_type": "display_data"
    },
    {
     "name": "stdout",
     "output_type": "stream",
     "text": [
      "\n"
     ]
    },
    {
     "data": {
      "application/vnd.jupyter.widget-view+json": {
       "model_id": "e80dde18696041e1a9ee3b97117e1b92",
       "version_major": 2,
       "version_minor": 0
      },
      "text/plain": [
       "HBox(children=(IntProgress(value=1, bar_style='info', max=1), HTML(value='')))"
      ]
     },
     "metadata": {},
     "output_type": "display_data"
    },
    {
     "name": "stdout",
     "output_type": "stream",
     "text": [
      "\n"
     ]
    },
    {
     "data": {
      "application/vnd.jupyter.widget-view+json": {
       "model_id": "da95c5cca1e7461a8bcfdd8d3dde9a10",
       "version_major": 2,
       "version_minor": 0
      },
      "text/plain": [
       "HBox(children=(IntProgress(value=1, bar_style='info', max=1), HTML(value='')))"
      ]
     },
     "metadata": {},
     "output_type": "display_data"
    },
    {
     "name": "stdout",
     "output_type": "stream",
     "text": [
      "\n"
     ]
    },
    {
     "data": {
      "application/vnd.jupyter.widget-view+json": {
       "model_id": "c9368d0ee38d429b8303575899fa6b8f",
       "version_major": 2,
       "version_minor": 0
      },
      "text/plain": [
       "HBox(children=(IntProgress(value=1, bar_style='info', max=1), HTML(value='')))"
      ]
     },
     "metadata": {},
     "output_type": "display_data"
    },
    {
     "name": "stdout",
     "output_type": "stream",
     "text": [
      "\n"
     ]
    },
    {
     "data": {
      "application/vnd.jupyter.widget-view+json": {
       "model_id": "e510640ed6a64456acc4c23e3efc1a44",
       "version_major": 2,
       "version_minor": 0
      },
      "text/plain": [
       "HBox(children=(IntProgress(value=1, bar_style='info', max=1), HTML(value='')))"
      ]
     },
     "metadata": {},
     "output_type": "display_data"
    },
    {
     "name": "stdout",
     "output_type": "stream",
     "text": [
      "\n"
     ]
    },
    {
     "data": {
      "application/vnd.jupyter.widget-view+json": {
       "model_id": "546881edb4084571a45e5ae40a428029",
       "version_major": 2,
       "version_minor": 0
      },
      "text/plain": [
       "HBox(children=(IntProgress(value=1, bar_style='info', max=1), HTML(value='')))"
      ]
     },
     "metadata": {},
     "output_type": "display_data"
    },
    {
     "name": "stdout",
     "output_type": "stream",
     "text": [
      "\n"
     ]
    },
    {
     "data": {
      "application/vnd.jupyter.widget-view+json": {
       "model_id": "6063432ffbf440e78ec38230fa96b02d",
       "version_major": 2,
       "version_minor": 0
      },
      "text/plain": [
       "HBox(children=(IntProgress(value=1, bar_style='info', max=1), HTML(value='')))"
      ]
     },
     "metadata": {},
     "output_type": "display_data"
    },
    {
     "name": "stdout",
     "output_type": "stream",
     "text": [
      "\n"
     ]
    }
   ],
   "source": [
    "UU1 = FOLDER + 'UU51/Aligned.sortedByCoord.out.bam'\n",
    "UU2 = FOLDER + 'UU52/Aligned.sortedByCoord.out.bam'\n",
    "UU3 = FOLDER + 'UU59/Aligned.sortedByCoord.out.bam'\n",
    "UU4 = FOLDER + 'UU61/Aligned.sortedByCoord.out.bam'\n",
    "UU5 = FOLDER + 'UU65/Aligned.sortedByCoord.out.bam'\n",
    "\n",
    "WW1 = FOLDER + 'WW49/Aligned.sortedByCoord.out.bam'\n",
    "WW2 = FOLDER + 'WW54/Aligned.sortedByCoord.out.bam'\n",
    "WW3 = FOLDER + 'WW58/Aligned.sortedByCoord.out.bam'\n",
    "WW4 = FOLDER + 'WW62/Aligned.sortedByCoord.out.bam'\n",
    "WW5 = FOLDER + 'WW63/Aligned.sortedByCoord.out.bam'\n",
    "\n",
    "\n",
    "df_uu1 = query_bam(UU1, \"B73V4_ctg150\", 0, 1563274)\n",
    "df_uu2 = query_bam(UU2, \"B73V4_ctg150\", 0, 1563274)\n",
    "df_uu3 = query_bam(UU3, \"B73V4_ctg150\", 0, 1563274)\n",
    "df_uu4 = query_bam(UU4, \"B73V4_ctg150\", 0, 1563274)\n",
    "df_uu5 = query_bam(UU5, \"B73V4_ctg150\", 0, 1563274)\n",
    "\n",
    "df_ww1 = query_bam(WW1, \"B73V4_ctg150\", 0, 1563274)\n",
    "df_ww2 = query_bam(WW2, \"B73V4_ctg150\", 0, 1563274)\n",
    "df_ww3 = query_bam(WW3, \"B73V4_ctg150\", 0, 1563274)\n",
    "df_ww4 = query_bam(WW4, \"B73V4_ctg150\", 0, 1563274)\n",
    "df_ww5 = query_bam(WW5, \"B73V4_ctg150\", 0, 1563274)"
   ]
  },
  {
   "cell_type": "code",
   "execution_count": 6,
   "metadata": {},
   "outputs": [],
   "source": [
    "kmer_uu1 = np.unique(sum(df_uu1['kmer'].values,[]), return_counts=True)\n",
    "kmer_uu2 = np.unique(sum(df_uu2['kmer'].values,[]), return_counts=True)\n",
    "kmer_uu3 = np.unique(sum(df_uu3['kmer'].values,[]), return_counts=True)\n",
    "kmer_uu4 = np.unique(sum(df_uu4['kmer'].values,[]), return_counts=True)\n",
    "kmer_uu5 = np.unique(sum(df_uu5['kmer'].values,[]), return_counts=True)\n",
    "\n",
    "kmer_ww1 = np.unique(sum(df_ww1['kmer'].values,[]), return_counts=True)\n",
    "kmer_ww2 = np.unique(sum(df_ww2['kmer'].values,[]), return_counts=True)\n",
    "kmer_ww3 = np.unique(sum(df_ww3['kmer'].values,[]), return_counts=True)\n",
    "kmer_ww4 = np.unique(sum(df_ww4['kmer'].values,[]), return_counts=True)\n",
    "kmer_ww5 = np.unique(sum(df_ww5['kmer'].values,[]), return_counts=True)"
   ]
  },
  {
   "cell_type": "markdown",
   "metadata": {},
   "source": [
    "### We looked at k-mers that have >=3 reads in each UU library and <=1 reads in each WW library"
   ]
  },
  {
   "cell_type": "code",
   "execution_count": 7,
   "metadata": {
    "scrolled": true
   },
   "outputs": [],
   "source": [
    "kmer_UU = ((set(kmer_uu1[0][kmer_uu1[1]>=3]) & set(kmer_uu2[0][kmer_uu2[1]>=3])) & \n",
    "           (set(kmer_uu3[0][kmer_uu3[1]>=3]) & set(kmer_uu4[0][kmer_uu4[1]>=3])) \n",
    "           & set(kmer_uu5[0][kmer_uu5[1]>=3]))\n"
   ]
  },
  {
   "cell_type": "code",
   "execution_count": 8,
   "metadata": {
    "scrolled": true
   },
   "outputs": [],
   "source": [
    "unique_UU = kmer_UU - set(kmer_ww1[0][kmer_ww1[1]>1]) - set(kmer_ww2[0][kmer_ww2[1]>1]) - set(kmer_ww3[0][kmer_ww3[1]>1]) - set(kmer_ww4[0][kmer_ww4[1]>1]) - set(kmer_ww5[0][kmer_ww5[1]>1])\n"
   ]
  },
  {
   "cell_type": "code",
   "execution_count": 9,
   "metadata": {
    "scrolled": true
   },
   "outputs": [
    {
     "name": "stdout",
     "output_type": "stream",
     "text": [
      "53\n",
      "{'ACACCGGCGCCGCCGCCTTCCTCGC', 'CCTTCCTCGCCGACGATGACCTCGG', 'TTCCTCGCCGACGATGACCTCGGCG', 'GGTTCTGTTGGTGCACTAATCCTGC', 'CGCCTTCCTCGCCGACGATGACCTC', 'CGCCGCCTTCCTCGCCGACGATGAC', 'AACACCGGCGCCGCCGCCTTCCTCG', 'GCGTTTTCAGGGTTCTGTTGGTGCA', 'TTTCTATGGCGTTTTCAGGGTTCTG', 'CGCCGCCGCCTTCCTCGCCGACGAT', 'TCAGGGTTCTGTTGGTGCACTAATC', 'GCCGCCGCCTTCCTCGCCGACGATG', 'TTTTTCTATGGCGTTTTCAGGGTTC', 'TGGCGTTTTCAGGGTTCTGTTGGTG', 'GGGTTCTGTTGGTGCACTAATCCTG', 'GCGCCGCCGCCTTCCTCGCCGACGA', 'TTCTATGGCGTTTTCAGGGTTCTGT', 'GCCGACGATGACCTCGGCGGGCTGT', 'CACCGGCGCCGCCGCCTTCCTCGCC', 'CAACTTTTTCTATGGCGTTTTCAGG', 'GCCGCCTTCCTCGCCGACGATGACC', 'ATGGCGTTTTCAGGGTTCTGTTGGT', 'CAGGGTTCTGTTGGTGCACTAATCC', 'TTTCAGGGTTCTGTTGGTGCACTAA', 'TTTTCAGGGTTCTGTTGGTGCACTA', 'AACAACTTTTTCTATGGCGTTTTCA', 'TATGGCGTTTTCAGGGTTCTGTTGG', 'ACTTTTTCTATGGCGTTTTCAGGGT', 'GCCTTCCTCGCCGACGATGACCTCG', 'CCTCGCCGACGATGACCTCGGCGGG', 'CTATGGCGTTTTCAGGGTTCTGTTG', 'CGTTTTCAGGGTTCTGTTGGTGCAC', 'CTTTTTCTATGGCGTTTTCAGGGTT', 'AACTTTTTCTATGGCGTTTTCAGGG', 'GTTTTCAGGGTTCTGTTGGTGCACT', 'TTTTCTATGGCGTTTTCAGGGTTCT', 'GGCGTTTTCAGGGTTCTGTTGGTGC', 'CCGGCGCCGCCGCCTTCCTCGCCGA', 'TCCTCGCCGACGATGACCTCGGCGG', 'ACAACTTTTTCTATGGCGTTTTCAG', 'CTTCCTCGCCGACGATGACCTCGGC', 'CGCCGACGATGACCTCGGCGGGCTG', 'AGGGTTCTGTTGGTGCACTAATCCT', 'CTCGCCGACGATGACCTCGGCGGGC', 'GGCGCCGCCGCCTTCCTCGCCGACG', 'ACCGGCGCCGCCGCCTTCCTCGCCG', 'GAACACCGGCGCCGCCGCCTTCCTC', 'TCTATGGCGTTTTCAGGGTTCTGTT', 'CCGCCGCCTTCCTCGCCGACGATGA', 'CGGCGCCGCCGCCTTCCTCGCCGAC', 'TCGCCGACGATGACCTCGGCGGGCT', 'CCGCCTTCCTCGCCGACGATGACCT', 'TTCAGGGTTCTGTTGGTGCACTAAT'}\n"
     ]
    }
   ],
   "source": [
    "print(len(unique_UU))\n",
    "print(unique_UU)"
   ]
  },
  {
   "cell_type": "code",
   "execution_count": 10,
   "metadata": {
    "scrolled": true
   },
   "outputs": [
    {
     "data": {
      "text/plain": [
       "{'ACACCGGCGCCGCCGCCTTCCTCGC': 37,\n",
       " 'CCTTCCTCGCCGACGATGACCTCGG': 38,\n",
       " 'TTCCTCGCCGACGATGACCTCGGCG': 38,\n",
       " 'GGTTCTGTTGGTGCACTAATCCTGC': 27,\n",
       " 'CGCCTTCCTCGCCGACGATGACCTC': 37,\n",
       " 'CGCCGCCTTCCTCGCCGACGATGAC': 37,\n",
       " 'AACACCGGCGCCGCCGCCTTCCTCG': 37,\n",
       " 'GCGTTTTCAGGGTTCTGTTGGTGCA': 34,\n",
       " 'TTTCTATGGCGTTTTCAGGGTTCTG': 34,\n",
       " 'CGCCGCCGCCTTCCTCGCCGACGAT': 37,\n",
       " 'TCAGGGTTCTGTTGGTGCACTAATC': 34,\n",
       " 'GCCGCCGCCTTCCTCGCCGACGATG': 37,\n",
       " 'TTTTTCTATGGCGTTTTCAGGGTTC': 34,\n",
       " 'TGGCGTTTTCAGGGTTCTGTTGGTG': 34,\n",
       " 'GGGTTCTGTTGGTGCACTAATCCTG': 34,\n",
       " 'GCGCCGCCGCCTTCCTCGCCGACGA': 37,\n",
       " 'TTCTATGGCGTTTTCAGGGTTCTGT': 34,\n",
       " 'GCCGACGATGACCTCGGCGGGCTGT': 38,\n",
       " 'CACCGGCGCCGCCGCCTTCCTCGCC': 37,\n",
       " 'CAACTTTTTCTATGGCGTTTTCAGG': 34,\n",
       " 'GCCGCCTTCCTCGCCGACGATGACC': 37,\n",
       " 'ATGGCGTTTTCAGGGTTCTGTTGGT': 34,\n",
       " 'CAGGGTTCTGTTGGTGCACTAATCC': 34,\n",
       " 'TTTCAGGGTTCTGTTGGTGCACTAA': 34,\n",
       " 'TTTTCAGGGTTCTGTTGGTGCACTA': 34,\n",
       " 'AACAACTTTTTCTATGGCGTTTTCA': 34,\n",
       " 'TATGGCGTTTTCAGGGTTCTGTTGG': 34,\n",
       " 'ACTTTTTCTATGGCGTTTTCAGGGT': 34,\n",
       " 'GCCTTCCTCGCCGACGATGACCTCG': 37,\n",
       " 'CCTCGCCGACGATGACCTCGGCGGG': 38,\n",
       " 'CTATGGCGTTTTCAGGGTTCTGTTG': 34,\n",
       " 'CGTTTTCAGGGTTCTGTTGGTGCAC': 34,\n",
       " 'CTTTTTCTATGGCGTTTTCAGGGTT': 34,\n",
       " 'AACTTTTTCTATGGCGTTTTCAGGG': 34,\n",
       " 'GTTTTCAGGGTTCTGTTGGTGCACT': 34,\n",
       " 'TTTTCTATGGCGTTTTCAGGGTTCT': 34,\n",
       " 'GGCGTTTTCAGGGTTCTGTTGGTGC': 34,\n",
       " 'CCGGCGCCGCCGCCTTCCTCGCCGA': 37,\n",
       " 'TCCTCGCCGACGATGACCTCGGCGG': 38,\n",
       " 'ACAACTTTTTCTATGGCGTTTTCAG': 34,\n",
       " 'CTTCCTCGCCGACGATGACCTCGGC': 38,\n",
       " 'CGCCGACGATGACCTCGGCGGGCTG': 38,\n",
       " 'AGGGTTCTGTTGGTGCACTAATCCT': 34,\n",
       " 'CTCGCCGACGATGACCTCGGCGGGC': 38,\n",
       " 'GGCGCCGCCGCCTTCCTCGCCGACG': 37,\n",
       " 'ACCGGCGCCGCCGCCTTCCTCGCCG': 37,\n",
       " 'GAACACCGGCGCCGCCGCCTTCCTC': 37,\n",
       " 'TCTATGGCGTTTTCAGGGTTCTGTT': 34,\n",
       " 'CCGCCGCCTTCCTCGCCGACGATGA': 37,\n",
       " 'CGGCGCCGCCGCCTTCCTCGCCGAC': 37,\n",
       " 'TCGCCGACGATGACCTCGGCGGGCT': 38,\n",
       " 'CCGCCTTCCTCGCCGACGATGACCT': 37,\n",
       " 'TTCAGGGTTCTGTTGGTGCACTAAT': 34}"
      ]
     },
     "execution_count": 10,
     "metadata": {},
     "output_type": "execute_result"
    }
   ],
   "source": [
    "kmerCounts_uu1 = dict(zip(kmer_uu1[0],kmer_uu1[1]))\n",
    "kmerCounts_uu2 = dict(zip(kmer_uu2[0],kmer_uu2[1]))\n",
    "kmerCounts_uu3 = dict(zip(kmer_uu3[0],kmer_uu3[1]))\n",
    "kmerCounts_uu4 = dict(zip(kmer_uu4[0],kmer_uu4[1]))\n",
    "kmerCounts_uu5 = dict(zip(kmer_uu5[0],kmer_uu5[1]))\n",
    "\n",
    "kmerCounts_uniq_uu1 = dict((k, kmerCounts_uu1[k]) for k in unique_UU)\n",
    "kmerCounts_uniq_uu2 = dict((k, kmerCounts_uu2[k]) for k in unique_UU)\n",
    "kmerCounts_uniq_uu3 = dict((k, kmerCounts_uu3[k]) for k in unique_UU)\n",
    "kmerCounts_uniq_uu4 = dict((k, kmerCounts_uu4[k]) for k in unique_UU)\n",
    "kmerCounts_uniq_uu5 = dict((k, kmerCounts_uu5[k]) for k in unique_UU)\n",
    "\n",
    "kmerCounts_uniq_UU = dict((k, kmerCounts_uniq_uu1[k]+kmerCounts_uniq_uu2[k]+kmerCounts_uniq_uu3[k]+kmerCounts_uniq_uu4[k]+kmerCounts_uniq_uu5[k]) for k in unique_UU)\n",
    "\n",
    "kmerCounts_uniq_UU\n"
   ]
  },
  {
   "cell_type": "code",
   "execution_count": 11,
   "metadata": {},
   "outputs": [],
   "source": [
    "def intersect(df0, df1):\n",
    "    df0['gene'] = 'NA'\n",
    "    for i in range(len(df0)):\n",
    "        for j in range(len(df1)):\n",
    "            if (df0.iloc[i,1] >= df1.iloc[j,1]) and (df0.iloc[i,2] <= df1.iloc[j,2]):\n",
    "                df0.iloc[i,5] = df1.iloc[j,4]\n",
    "    \n",
    "    return df0\n",
    "\n",
    "\n",
    "df_uu1 = intersect(df_uu1, gene_coord[gene_coord[0]=='B73V4_ctg150'])"
   ]
  },
  {
   "cell_type": "code",
   "execution_count": 12,
   "metadata": {},
   "outputs": [
    {
     "data": {
      "text/html": [
       "<div>\n",
       "<style scoped>\n",
       "    .dataframe tbody tr th:only-of-type {\n",
       "        vertical-align: middle;\n",
       "    }\n",
       "\n",
       "    .dataframe tbody tr th {\n",
       "        vertical-align: top;\n",
       "    }\n",
       "\n",
       "    .dataframe thead th {\n",
       "        text-align: right;\n",
       "    }\n",
       "</style>\n",
       "<table border=\"1\" class=\"dataframe\">\n",
       "  <thead>\n",
       "    <tr style=\"text-align: right;\">\n",
       "      <th></th>\n",
       "      <th>chr</th>\n",
       "      <th>start</th>\n",
       "      <th>end</th>\n",
       "      <th>seq</th>\n",
       "      <th>kmer</th>\n",
       "      <th>gene</th>\n",
       "    </tr>\n",
       "  </thead>\n",
       "  <tbody>\n",
       "    <tr>\n",
       "      <th>469</th>\n",
       "      <td>B73V4_ctg150</td>\n",
       "      <td>598344</td>\n",
       "      <td>598395</td>\n",
       "      <td>CAACAACTTTTTCTATGGCGTTTTCAGGGTTCTGTTGGTGCACTAA...</td>\n",
       "      <td>[CAACAACTTTTTCTATGGCGTTTTC, AACAACTTTTTCTATGGC...</td>\n",
       "      <td>Zm00001d000009</td>\n",
       "    </tr>\n",
       "    <tr>\n",
       "      <th>470</th>\n",
       "      <td>B73V4_ctg150</td>\n",
       "      <td>598344</td>\n",
       "      <td>598395</td>\n",
       "      <td>CAACAACTTTTTCTATGGCGTTTTCAGGGTTCTGTTGGTGCACTAA...</td>\n",
       "      <td>[CAACAACTTTTTCTATGGCGTTTTC, AACAACTTTTTCTATGGC...</td>\n",
       "      <td>Zm00001d000009</td>\n",
       "    </tr>\n",
       "    <tr>\n",
       "      <th>471</th>\n",
       "      <td>B73V4_ctg150</td>\n",
       "      <td>598345</td>\n",
       "      <td>598396</td>\n",
       "      <td>AACAACTTTTTCTATGGCGTTTTCAGGGTTCTGTTGGTGCACTAAT...</td>\n",
       "      <td>[AACAACTTTTTCTATGGCGTTTTCA, ACAACTTTTTCTATGGCG...</td>\n",
       "      <td>Zm00001d000009</td>\n",
       "    </tr>\n",
       "    <tr>\n",
       "      <th>472</th>\n",
       "      <td>B73V4_ctg150</td>\n",
       "      <td>598345</td>\n",
       "      <td>598396</td>\n",
       "      <td>AACAACTTTTTCTATGGCGTTTTCAGGGTTCTGTTGGTGCACTAAT...</td>\n",
       "      <td>[AACAACTTTTTCTATGGCGTTTTCA, ACAACTTTTTCTATGGCG...</td>\n",
       "      <td>Zm00001d000009</td>\n",
       "    </tr>\n",
       "    <tr>\n",
       "      <th>473</th>\n",
       "      <td>B73V4_ctg150</td>\n",
       "      <td>598345</td>\n",
       "      <td>598396</td>\n",
       "      <td>AACAACTTTTTCTATGGCGTTTTCAGGGTTCTGTTGGTGCACTAAT...</td>\n",
       "      <td>[AACAACTTTTTCTATGGCGTTTTCA, ACAACTTTTTCTATGGCG...</td>\n",
       "      <td>Zm00001d000009</td>\n",
       "    </tr>\n",
       "    <tr>\n",
       "      <th>474</th>\n",
       "      <td>B73V4_ctg150</td>\n",
       "      <td>598345</td>\n",
       "      <td>598396</td>\n",
       "      <td>AACAACTTTTTCTATGGCGTTTTCAGGGTTCTGTTGGTGCACTAAT...</td>\n",
       "      <td>[AACAACTTTTTCTATGGCGTTTTCA, ACAACTTTTTCTATGGCG...</td>\n",
       "      <td>Zm00001d000009</td>\n",
       "    </tr>\n",
       "    <tr>\n",
       "      <th>475</th>\n",
       "      <td>B73V4_ctg150</td>\n",
       "      <td>598345</td>\n",
       "      <td>598396</td>\n",
       "      <td>AACAACTTTTTCTATGGCGTTTTCAGGGTTCTGTTGGTGCACTAAT...</td>\n",
       "      <td>[AACAACTTTTTCTATGGCGTTTTCA, ACAACTTTTTCTATGGCG...</td>\n",
       "      <td>Zm00001d000009</td>\n",
       "    </tr>\n",
       "    <tr>\n",
       "      <th>476</th>\n",
       "      <td>B73V4_ctg150</td>\n",
       "      <td>598345</td>\n",
       "      <td>598396</td>\n",
       "      <td>AACAACTTTTTCTATGGCGTTTTCAGGGTTCTGTTGGTGCACTAAT...</td>\n",
       "      <td>[AACAACTTTTTCTATGGCGTTTTCA, ACAACTTTTTCTATGGCG...</td>\n",
       "      <td>Zm00001d000009</td>\n",
       "    </tr>\n",
       "  </tbody>\n",
       "</table>\n",
       "</div>"
      ],
      "text/plain": [
       "              chr   start     end  \\\n",
       "469  B73V4_ctg150  598344  598395   \n",
       "470  B73V4_ctg150  598344  598395   \n",
       "471  B73V4_ctg150  598345  598396   \n",
       "472  B73V4_ctg150  598345  598396   \n",
       "473  B73V4_ctg150  598345  598396   \n",
       "474  B73V4_ctg150  598345  598396   \n",
       "475  B73V4_ctg150  598345  598396   \n",
       "476  B73V4_ctg150  598345  598396   \n",
       "\n",
       "                                                   seq  \\\n",
       "469  CAACAACTTTTTCTATGGCGTTTTCAGGGTTCTGTTGGTGCACTAA...   \n",
       "470  CAACAACTTTTTCTATGGCGTTTTCAGGGTTCTGTTGGTGCACTAA...   \n",
       "471  AACAACTTTTTCTATGGCGTTTTCAGGGTTCTGTTGGTGCACTAAT...   \n",
       "472  AACAACTTTTTCTATGGCGTTTTCAGGGTTCTGTTGGTGCACTAAT...   \n",
       "473  AACAACTTTTTCTATGGCGTTTTCAGGGTTCTGTTGGTGCACTAAT...   \n",
       "474  AACAACTTTTTCTATGGCGTTTTCAGGGTTCTGTTGGTGCACTAAT...   \n",
       "475  AACAACTTTTTCTATGGCGTTTTCAGGGTTCTGTTGGTGCACTAAT...   \n",
       "476  AACAACTTTTTCTATGGCGTTTTCAGGGTTCTGTTGGTGCACTAAT...   \n",
       "\n",
       "                                                  kmer            gene  \n",
       "469  [CAACAACTTTTTCTATGGCGTTTTC, AACAACTTTTTCTATGGC...  Zm00001d000009  \n",
       "470  [CAACAACTTTTTCTATGGCGTTTTC, AACAACTTTTTCTATGGC...  Zm00001d000009  \n",
       "471  [AACAACTTTTTCTATGGCGTTTTCA, ACAACTTTTTCTATGGCG...  Zm00001d000009  \n",
       "472  [AACAACTTTTTCTATGGCGTTTTCA, ACAACTTTTTCTATGGCG...  Zm00001d000009  \n",
       "473  [AACAACTTTTTCTATGGCGTTTTCA, ACAACTTTTTCTATGGCG...  Zm00001d000009  \n",
       "474  [AACAACTTTTTCTATGGCGTTTTCA, ACAACTTTTTCTATGGCG...  Zm00001d000009  \n",
       "475  [AACAACTTTTTCTATGGCGTTTTCA, ACAACTTTTTCTATGGCG...  Zm00001d000009  \n",
       "476  [AACAACTTTTTCTATGGCGTTTTCA, ACAACTTTTTCTATGGCG...  Zm00001d000009  "
      ]
     },
     "execution_count": 12,
     "metadata": {},
     "output_type": "execute_result"
    }
   ],
   "source": [
    "df_uu1[df_uu1['seq'].str.contains('TTTTCTATGGCGTTTTCAGGGTTCT')]"
   ]
  },
  {
   "cell_type": "markdown",
   "metadata": {},
   "source": [
    "### Each kmer is unique to a gene"
   ]
  },
  {
   "cell_type": "code",
   "execution_count": 13,
   "metadata": {
    "scrolled": true
   },
   "outputs": [
    {
     "name": "stdout",
     "output_type": "stream",
     "text": [
      "Zm00001d000001\n",
      "Zm00001d000001\n",
      "Zm00001d000001\n",
      "Zm00001d000009\n",
      "Zm00001d000001\n",
      "Zm00001d000001\n",
      "Zm00001d000001\n",
      "Zm00001d000009\n",
      "Zm00001d000009\n",
      "Zm00001d000001\n",
      "Zm00001d000009\n",
      "Zm00001d000001\n",
      "Zm00001d000009\n",
      "Zm00001d000009\n",
      "Zm00001d000009\n",
      "Zm00001d000001\n",
      "Zm00001d000009\n",
      "Zm00001d000001\n",
      "Zm00001d000001\n",
      "Zm00001d000009\n",
      "Zm00001d000001\n",
      "Zm00001d000009\n",
      "Zm00001d000009\n",
      "Zm00001d000009\n",
      "Zm00001d000009\n",
      "Zm00001d000009\n",
      "Zm00001d000009\n",
      "Zm00001d000009\n",
      "Zm00001d000001\n",
      "Zm00001d000001\n",
      "Zm00001d000009\n",
      "Zm00001d000009\n",
      "Zm00001d000009\n",
      "Zm00001d000009\n",
      "Zm00001d000009\n",
      "Zm00001d000009\n",
      "Zm00001d000009\n",
      "Zm00001d000001\n",
      "Zm00001d000001\n",
      "Zm00001d000009\n",
      "Zm00001d000001\n",
      "Zm00001d000001\n",
      "Zm00001d000009\n",
      "Zm00001d000001\n",
      "Zm00001d000001\n",
      "Zm00001d000001\n",
      "Zm00001d000001\n",
      "Zm00001d000009\n",
      "Zm00001d000001\n",
      "Zm00001d000001\n",
      "Zm00001d000001\n",
      "Zm00001d000001\n",
      "Zm00001d000009\n"
     ]
    }
   ],
   "source": [
    "geneCounts = {}\n",
    "for kmer in kmerCounts_uniq_UU:\n",
    "    t = df_uu1[df_uu1['seq'].str.contains(kmer)][['gene']].drop_duplicates().values\n",
    "    try:\n",
    "        assert len(t) == 1\n",
    "    except Exception:\n",
    "        print('multiple alignment')\n",
    "        print(kmer)\n",
    "    print(t[0][0])\n",
    "    if t[0][0] not in geneCounts:\n",
    "        geneCounts[t[0][0]] = kmerCounts_uniq_UU[kmer]\n",
    "    else:\n",
    "        geneCounts[t[0][0]] += kmerCounts_uniq_UU[kmer]\n",
    "    "
   ]
  },
  {
   "cell_type": "markdown",
   "metadata": {},
   "source": [
    "### 971 k-mers unique to Ufo1-1 that are mapped to Zm00001d000001(polyphenol oxidase1)\n",
    "### 911 k-mers unique to Ufo1-1 that are mapped to Zm00001d000009(our candidate gene)\n",
    "\n",
    "### Further analysis revealed that unique k-mers in Zm00001d000001 resulted from SNP variations whereas Zm00001d000009 was due to structural variation (transposable element insertion)"
   ]
  },
  {
   "cell_type": "code",
   "execution_count": 14,
   "metadata": {},
   "outputs": [
    {
     "data": {
      "text/plain": [
       "{'Zm00001d000001': 971, 'Zm00001d000009': 911}"
      ]
     },
     "execution_count": 14,
     "metadata": {},
     "output_type": "execute_result"
    }
   ],
   "source": [
    "geneCounts"
   ]
  },
  {
   "cell_type": "code",
   "execution_count": null,
   "metadata": {},
   "outputs": [],
   "source": []
  }
 ],
 "metadata": {
  "kernelspec": {
   "display_name": "Python 3",
   "language": "python",
   "name": "python3"
  },
  "language_info": {
   "codemirror_mode": {
    "name": "ipython",
    "version": 3
   },
   "file_extension": ".py",
   "mimetype": "text/x-python",
   "name": "python",
   "nbconvert_exporter": "python",
   "pygments_lexer": "ipython3",
   "version": "3.7.2"
  }
 },
 "nbformat": 4,
 "nbformat_minor": 2
}
